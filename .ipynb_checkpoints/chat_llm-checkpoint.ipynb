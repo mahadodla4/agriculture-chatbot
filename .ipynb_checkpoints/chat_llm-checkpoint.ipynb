{
 "cells": [
  {
   "cell_type": "code",
   "execution_count": null,
   "id": "0655e8db-3e74-4556-9f45-f52c043d6a6e",
   "metadata": {},
   "outputs": [],
   "source": [
    "from transformers import pipeline\n",
    "\n",
    "# Load the fine-tuned model and tokenizer\n",
    "model = AutoModelForCausalLM.from_pretrained(\"./fine-tuned-agriculture-chatbot\").to(device)\n",
    "tokenizer = AutoTokenizer.from_pretrained(\"./fine-tuned-agriculture-chatbot\")\n",
    "\n",
    "# Create a text-generation pipeline\n",
    "chatbot = pipeline(\"text-generation\", model=model, tokenizer=tokenizer, device=0 if device == \"cuda\" else -1)\n",
    "\n",
    "# Generate a response\n",
    "user_query = \"How to grow tomatoes?\"\n",
    "response = chatbot(user_query, max_length=50, temperature=0.7)\n",
    "print(\"Generated response:\")\n",
    "print(response[0][\"generated_text\"])"
   ]
  }
 ],
 "metadata": {
  "kernelspec": {
   "display_name": "Python 3 (ipykernel)",
   "language": "python",
   "name": "python3"
  },
  "language_info": {
   "codemirror_mode": {
    "name": "ipython",
    "version": 3
   },
   "file_extension": ".py",
   "mimetype": "text/x-python",
   "name": "python",
   "nbconvert_exporter": "python",
   "pygments_lexer": "ipython3",
   "version": "3.10.0"
  }
 },
 "nbformat": 4,
 "nbformat_minor": 5
}
